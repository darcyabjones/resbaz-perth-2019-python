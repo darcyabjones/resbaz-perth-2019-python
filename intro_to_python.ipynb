{
 "cells": [
  {
   "cell_type": "markdown",
   "metadata": {},
   "source": [
    "# Perth ResBaz 2019 - Python Stream\n",
    "\n",
    "\n",
    "This lesson is adapted from the [Data Carpentry Ecology lesson](http://www.datacarpentry.org/python-ecology-lesson/)\n",
    "\n",
    "We'll be using an EtherPad channel to share solutions to challenges, ask questions and chat:\n",
    "\n",
    "<http://146.118.64.54/p/resbaz>\n",
    "\n",
    "### Contents:\n",
    "\n",
    "1. [Short Introduction to Python](#1.-Short-Introduction-to-Python)\n",
    "2. [Starting With Data](#2.-Starting-With-Data)\n",
    "3. [Indexing, Slicing, and Subsetting DataFrames](#3.-Indexing,-Slicing-and-Subsetting-DataFrames)\n",
    "4. [Data Types and Formats](#4.-Data-Types-and-Formats)\n",
    "5. [Combining DataFrames using Pandas](#5.-Combining-DataFrames-using-Pandas)\n",
    "6. [Automating data processing](#6.-Automating-data-processing)\n",
    "7. [A Brief intro to Matplotlib and Seaborn](#7.-A-Brief-intro-to-Matplotlib-and-Seaborn)\n",
    "\n",
    "### Download this notebook!\n",
    "\n",
    "We'll be working from this notebook and filling in the answers as we go.\n",
    "To fetch the notebook and the example data we will be using...\n",
    "\n",
    "**Please download the Git repository at <https://github.com/darcyabjones/resbaz-perth-2019-python>.**\n",
    "\n",
    "If you have `git` installed you can `clone` it from the terminal at the location that you want to store it...\n",
    "\n",
    "```bash\n",
    "git clone https://github.com/darcyabjones/resbaz-perth-2019-python.git\n",
    "```\n",
    "\n",
    "\n",
    "If you don't have `git` installed, you can download a Zip archive of the repository from <https://github.com/darcyabjones/resbaz-perth-2019-python/archive/master.zip> and unzip it wherever you want :).\n",
    "\n",
    "\n",
    "### Check that you have all of the necessary packages\n",
    "\n",
    "In later sections we will be using some python packages that aren't always distributed with Python.\n",
    "If you installed the full Anaconda distribution, you should already have what you need installed.\n",
    "If you used Miniconda or another method you may need to install the packages.\n",
    "\n",
    "We will be using:\n",
    "\n",
    "- [jupyter](https://jupyter.org/)\n",
    "- [pandas](https://pandas.pydata.org/)\n",
    "- [matplotlib](https://matplotlib.org/)\n",
    "\n",
    "To check that you have these packages installed, run the following in your bash terminal from the directory that you downloaded this repository into."
   ]
  },
  {
   "cell_type": "code",
   "execution_count": null,
   "metadata": {},
   "outputs": [],
   "source": [
    "%%bash\n",
    "\n",
    "python3 scripts/check_packages.py"
   ]
  },
  {
   "cell_type": "markdown",
   "metadata": {},
   "source": [
    "If you are missing packages you can install them using conda (e.g. if you installed Miniconda) or pip from your terminal.\n",
    "\n",
    "```bash\n",
    "conda install -y pandas matplotlib jupyter seaborn\n",
    "\n",
    "# or\n",
    "\n",
    "python3 -m pip install --user --upgrade pip pandas matplotlib jupyter seaborn\n",
    "```"
   ]
  },
  {
   "cell_type": "markdown",
   "metadata": {},
   "source": [
    "### How to use a Jupyter Notebook\n",
    "\n",
    "https://jupyter-notebook-beginner-guide.readthedocs.io/en/latest/index.html\n",
    "\n",
    "https://www.packtpub.com/books/content/getting-started-jupyter-notebook-part-1\n",
    "\n",
    "- The file autosaves\n",
    "- You run a cell with **Ctrl + enter** (or **Cmd + enter** on Mac OS) or using the run button in the tool bar\n",
    "- If you run a cell with **Shift + enter** it will also create a new cell below\n",
    "- See *Help > Keyboard Shortcuts* or the *Cheatsheet* for more info\n",
    "\n",
    "\n",
    "- The notebook has different type of cells: Code and Markdown are most commonly used\n",
    "- **Code** cells expect code for the Kernel you have chosen, syntax highlighting is available, comments in the code are specified with # -> code after this will not be executed\n",
    "- **Markdown** cells allow you to right report style text, using markdown for formatting the style (e.g. Headers, bold face etc)"
   ]
  },
  {
   "cell_type": "markdown",
   "metadata": {},
   "source": [
    "# 1. Short Introduction to Python"
   ]
  },
  {
   "cell_type": "code",
   "execution_count": null,
   "metadata": {},
   "outputs": [],
   "source": []
  },
  {
   "cell_type": "code",
   "execution_count": null,
   "metadata": {},
   "outputs": [],
   "source": []
  },
  {
   "cell_type": "code",
   "execution_count": null,
   "metadata": {},
   "outputs": [],
   "source": []
  },
  {
   "cell_type": "code",
   "execution_count": null,
   "metadata": {},
   "outputs": [],
   "source": []
  },
  {
   "cell_type": "code",
   "execution_count": null,
   "metadata": {},
   "outputs": [],
   "source": []
  },
  {
   "cell_type": "code",
   "execution_count": null,
   "metadata": {},
   "outputs": [],
   "source": []
  },
  {
   "cell_type": "code",
   "execution_count": null,
   "metadata": {},
   "outputs": [],
   "source": []
  },
  {
   "cell_type": "code",
   "execution_count": null,
   "metadata": {},
   "outputs": [],
   "source": []
  },
  {
   "cell_type": "code",
   "execution_count": null,
   "metadata": {},
   "outputs": [],
   "source": []
  },
  {
   "cell_type": "code",
   "execution_count": null,
   "metadata": {},
   "outputs": [],
   "source": []
  },
  {
   "cell_type": "markdown",
   "metadata": {},
   "source": [
    "# 2. Starting With Data"
   ]
  },
  {
   "cell_type": "code",
   "execution_count": null,
   "metadata": {},
   "outputs": [],
   "source": []
  },
  {
   "cell_type": "code",
   "execution_count": null,
   "metadata": {},
   "outputs": [],
   "source": []
  },
  {
   "cell_type": "code",
   "execution_count": null,
   "metadata": {},
   "outputs": [],
   "source": []
  },
  {
   "cell_type": "code",
   "execution_count": null,
   "metadata": {},
   "outputs": [],
   "source": []
  },
  {
   "cell_type": "code",
   "execution_count": null,
   "metadata": {},
   "outputs": [],
   "source": []
  },
  {
   "cell_type": "code",
   "execution_count": null,
   "metadata": {},
   "outputs": [],
   "source": []
  },
  {
   "cell_type": "code",
   "execution_count": null,
   "metadata": {},
   "outputs": [],
   "source": []
  },
  {
   "cell_type": "code",
   "execution_count": null,
   "metadata": {},
   "outputs": [],
   "source": []
  },
  {
   "cell_type": "markdown",
   "metadata": {},
   "source": [
    "# 3. Indexing, Slicing and Subsetting DataFrames\n",
    "\n",
    "We often want to work with subsets of a `DataFrame` object.\n",
    "\n",
    "In general we can select by labels (e.g. column headings), or by specific row and/or column indices.\n",
    "\n",
    "\n",
    "## Extracting Range based Subsets: Slicing\n",
    "\n",
    "**REMINDER**: Python Uses 0-based Indexing\n",
    "\n",
    "This means that the first element in an object is located at position `0`.\n",
    "\n",
    "\n",
    "<img src=\"https://datacarpentry.org/python-ecology-lesson/fig/slicing-indexing.png\" alt=\"indexing diagram\" width=450>\n",
    "\n",
    "\n",
    "<img src=\"https://datacarpentry.org/python-ecology-lesson/fig/slicing-slicing.png\" alt=\"slicing diagram\" width=450>\n",
    "\n",
    "\n",
    "### Challenge (5 mins)\n",
    "\n",
    "```python\n",
    "# Create a list of numbers:\n",
    "a = [1, 2, 3, 4, 5]\n",
    "```\n",
    "\n",
    "1. What value does the code below return?\n",
    "   ```python\n",
    "   a[0]\n",
    "   ```\n",
    "2. What about this?\n",
    "   ```python\n",
    "   a[-1]\n",
    "   ```\n",
    "2. What about a slice?\n",
    "   ```python\n",
    "   a[2:3]\n",
    "   ```\n",
    "3. How about this:\n",
    "   ```python\n",
    "   a[5]\n",
    "   ```\n",
    "4. Or this?\n",
    "   ```python\n",
    "   a[len(a)]\n",
    "   ```\n",
    "5. In the example above, calling `a[5]` returns an error. Why is that?"
   ]
  },
  {
   "cell_type": "code",
   "execution_count": null,
   "metadata": {},
   "outputs": [],
   "source": []
  },
  {
   "cell_type": "code",
   "execution_count": null,
   "metadata": {},
   "outputs": [],
   "source": []
  },
  {
   "cell_type": "markdown",
   "metadata": {},
   "source": [
    "## Slicing `DataFrames` using the `[]` operator\n",
    "\n",
    "Slicing using the `[]` operator selects a set of rows and/or columns from a DataFrame.\n",
    "To slice out a set of rows, you use the following syntax: `data[start:stop]`.\n",
    "\n",
    "When slicing, the start bound is included in the output **but the stop bound is not included**.\n",
    "The stop bound is one step **BEYOND** the row you want to select.\n",
    "So if you want to select rows 0, 1 and 2 your code would look like this:"
   ]
  },
  {
   "cell_type": "code",
   "execution_count": null,
   "metadata": {},
   "outputs": [],
   "source": [
    "# Load the dataframe if you don't already have it."
   ]
  },
  {
   "cell_type": "code",
   "execution_count": null,
   "metadata": {},
   "outputs": [],
   "source": [
    "# select rows 0,1,2 (but not 3)"
   ]
  },
  {
   "cell_type": "markdown",
   "metadata": {},
   "source": [
    "To access columns we will need to call them by their labels like we did in the last lesson.\n",
    "\n",
    "```python\n",
    "# selecting the plot column\n",
    "surveys_df['plot']\n",
    "```\n",
    "\n",
    "\n",
    "if you want more than one column you need to supply a list of column names."
   ]
  },
  {
   "cell_type": "code",
   "execution_count": null,
   "metadata": {
    "scrolled": true
   },
   "outputs": [],
   "source": [
    "# selecting plot_id and weight columns"
   ]
  },
  {
   "cell_type": "code",
   "execution_count": null,
   "metadata": {
    "scrolled": true
   },
   "outputs": [],
   "source": [
    "# What happens if you ask for a column that doesn't exist?"
   ]
  },
  {
   "cell_type": "markdown",
   "metadata": {},
   "source": [
    "Using this information we can start to constuct more complicated subsets."
   ]
  },
  {
   "cell_type": "code",
   "execution_count": null,
   "metadata": {},
   "outputs": [],
   "source": [
    "# Access the first three rows of the `plot_id` column using a slice"
   ]
  },
  {
   "cell_type": "code",
   "execution_count": null,
   "metadata": {},
   "outputs": [],
   "source": [
    "# Access the rows 0, 1, and 4 of the `plot_id` column using a list"
   ]
  },
  {
   "cell_type": "code",
   "execution_count": null,
   "metadata": {},
   "outputs": [],
   "source": [
    "# Access the first three rows of the `plot_id`, `weight\" sub-dataframe"
   ]
  },
  {
   "cell_type": "markdown",
   "metadata": {},
   "source": [
    "We can also reassign values within subsets of our DataFrame.\n",
    "But while we do that, let's assign our DataFrame to a new variable to demonstrate something that you might not expect.\n",
    "\n"
   ]
  },
  {
   "cell_type": "code",
   "execution_count": null,
   "metadata": {},
   "outputs": [],
   "source": [
    "# Assign `surveys_df` to a new variable `surveys_copy` to avoid modifying the original DataFrame\n",
    "\n",
    "# Reassign the first three rows of data in the new DataFrame variable to 0"
   ]
  },
  {
   "cell_type": "code",
   "execution_count": null,
   "metadata": {},
   "outputs": [],
   "source": [
    "# Show the head of the copied dataframe."
   ]
  },
  {
   "cell_type": "code",
   "execution_count": null,
   "metadata": {},
   "outputs": [],
   "source": [
    "# Show the head of the original dataframe."
   ]
  },
  {
   "cell_type": "markdown",
   "metadata": {},
   "source": [
    "What is the difference between the two data frames?\n",
    "\n",
    "What happens if you copy the following blocks and run them?\n",
    "\n",
    "```python\n",
    "numbers = [1, 2, 3, 4]\n",
    "numbers_copy = numbers\n",
    "numbers_copy[1:3] = [0, 0]\n",
    "\n",
    "print(numbers)\n",
    "```\n",
    "\n",
    "or this?\n",
    "\n",
    "```python\n",
    "number = 1\n",
    "number_copy = number\n",
    "\n",
    "number_copy = 0\n",
    "print(number)\n",
    "```"
   ]
  },
  {
   "cell_type": "code",
   "execution_count": null,
   "metadata": {},
   "outputs": [],
   "source": []
  },
  {
   "cell_type": "code",
   "execution_count": null,
   "metadata": {},
   "outputs": [],
   "source": []
  },
  {
   "cell_type": "markdown",
   "metadata": {},
   "source": [
    "## Referencing Objects vs Copying Objects in Python\n",
    "\n",
    "We might have thought that we were creating a fresh copy of the `surveys_df` objects when we  used the code `surveys_copy = surveys_df`.\n",
    "However the statement `y = x` doesn’t create a copy of our data frame.\n",
    "It creates a new variable `y` that refers to the **same** object `x` refers to.\n",
    "This means that there is only one object (the data frame), and both `x` and `y` refer to it.\n",
    "\n",
    "To create a fresh copy of the `surveys_df` data frame we use the syntax `y = x.copy()`.\n",
    "But before we have to read the `surveys_df` again because the current version contains the unintentional changes made to the first 3 columns."
   ]
  },
  {
   "cell_type": "code",
   "execution_count": null,
   "metadata": {},
   "outputs": [],
   "source": [
    "# Import data/surveys.csv again\n",
    "\n",
    "# Copy it to a new variable with the `.copy()` method.\n"
   ]
  },
  {
   "cell_type": "code",
   "execution_count": null,
   "metadata": {},
   "outputs": [],
   "source": [
    "# Reassign the first three rows of data in the new DataFrame variable to 0\n",
    "\n",
    "# show the head of the original dataframe"
   ]
  },
  {
   "cell_type": "markdown",
   "metadata": {},
   "source": [
    "The [`.copy()`](https://pandas.pydata.org/pandas-docs/stable/reference/api/pandas.DataFrame.copy.html) method is another thing that is specific to Pandas.\n",
    "\n",
    "To copy objects in general you can use the builtin [`copy`](https://docs.python.org/3/library/copy.html) package.\n",
    "The syntax for copying a `list` would be:\n",
    "\n",
    "```python\n",
    "import copy\n",
    "\n",
    "numbers = [1, 2, 3, 4, 5]\n",
    "numbers_copy = copy.deepcopy(numbers)\n",
    "```"
   ]
  },
  {
   "cell_type": "markdown",
   "metadata": {},
   "source": [
    "## Slicing and subsetting: label vs integer-based indexing\n",
    "\n",
    "We can select specific locations or ranges of our data in both the row and column directions\n",
    "using either [label](https://pandas.pydata.org/pandas-docs/stable/getting_started/10min.html#selection-by-label) or [integer-based indexing](https://pandas.pydata.org/pandas-docs/stable/user_guide/indexing.html#indexing-integer).\n",
    "\n",
    "- `loc`: indexing via *labels* (which can be numbers)\n",
    "- `iloc`: indexing via *integers*\n",
    "\n",
    "\n",
    "<img src=\"http://104.236.88.249/wp-content/uploads/2016/10/Pandas-selections-and-indexing.png\" alt=\"loc_iloc_subsetting\" width=\"550px\" />\n",
    "\n",
    "<img src=\"https://vrzkj25a871bpq7t1ugcgmn9-wpengine.netdna-ssl.com/wp-content/uploads/2019/01/pandas-dataframe-has-indexes.png\" alt=\"dataframe_indexing\" width=\"600px\" />\n",
    "\n",
    "\n",
    "To select an index subset of rows AND columns from our DataFrame, we can use the `iloc` method.\n",
    "\n",
    "**Note**: the order of selection is ROW followed by COLUMN"
   ]
  },
  {
   "cell_type": "code",
   "execution_count": null,
   "metadata": {},
   "outputs": [],
   "source": [
    "# if you haven't done so yet read the csv back in (we had unwanted changes when \n",
    "# we 'copied' the data frame earlier)\n",
    "\n",
    "# try .iloc"
   ]
  },
  {
   "cell_type": "markdown",
   "metadata": {},
   "source": [
    "Notice that we asked for a slice from `0:3`. This yielded 3 rows of data. When you\n",
    "ask for `0:3`, you are actually telling python to start at index 0 and select rows\n",
    "`0`, `1`, and `2` (**up to but not including 3**).\n",
    "\n",
    "\n",
    "---\n",
    "\n",
    "Next let's explore subsetting our data using labels.\n",
    "**Note** When \"slicing\" labels, the start bound and the stop bound are **included**. "
   ]
  },
  {
   "cell_type": "code",
   "execution_count": null,
   "metadata": {},
   "outputs": [],
   "source": [
    "# select all columns for rows of index values 0 and 10"
   ]
  },
  {
   "cell_type": "code",
   "execution_count": null,
   "metadata": {},
   "outputs": [],
   "source": [
    "# We can also select a multiple columns using a list"
   ]
  },
  {
   "cell_type": "markdown",
   "metadata": {},
   "source": [
    "A common \"gotcha\" is trying to select a non-existant value from the data.\n",
    "Which can produce some unexpected results.\n",
    "\n",
    "\n",
    "```python\n",
    "\n",
    "# What happens when you type the code below?\n",
    "surveys_df.loc[[0, 10, 35549], :]\n",
    "\n",
    "# Try using iloc instead?\n",
    "surveys_df.iloc[[0, 10, 35549], :]\n",
    "```"
   ]
  },
  {
   "cell_type": "code",
   "execution_count": null,
   "metadata": {},
   "outputs": [],
   "source": []
  },
  {
   "cell_type": "code",
   "execution_count": null,
   "metadata": {},
   "outputs": [],
   "source": []
  },
  {
   "cell_type": "markdown",
   "metadata": {},
   "source": [
    "If using `iloc`, labels must be found in the DataFrame or you will get a `KeyError`.\n",
    "Using `loc` (at least for now) you'll get `NaN` entries returned so be careful!\n",
    "\n",
    "\n",
    "### Challenge\n",
    "\n",
    "1. What happens when you type:\n",
    "\t- `surveys_df[0:3]`\n",
    "\t- `surveys_df[:5]`\n",
    "\t- `surveys_df[-1:]`\n",
    "\n",
    "2. What happens when you call:\n",
    "    - `surveys_df.iloc[0:4, 1:4]`\n",
    "    - `surveys_df.loc[0:4, 1:4]`\n",
    "    - How are the two commands different?"
   ]
  },
  {
   "cell_type": "code",
   "execution_count": null,
   "metadata": {},
   "outputs": [],
   "source": []
  },
  {
   "cell_type": "code",
   "execution_count": null,
   "metadata": {},
   "outputs": [],
   "source": []
  },
  {
   "cell_type": "code",
   "execution_count": null,
   "metadata": {},
   "outputs": [],
   "source": []
  },
  {
   "cell_type": "code",
   "execution_count": null,
   "metadata": {},
   "outputs": [],
   "source": []
  },
  {
   "cell_type": "code",
   "execution_count": null,
   "metadata": {},
   "outputs": [],
   "source": []
  },
  {
   "cell_type": "markdown",
   "metadata": {},
   "source": [
    "## Subsetting using masks\n",
    "\n",
    "A mask can be useful to locate where a particular subset of values exist or don't exist - for example, `NaN`, or \"Not a Number\" values.\n",
    "\n",
    "To understand masks we also need to understand `bool` objects in python.\n",
    "\n",
    "Boolean values include `True` or `False`.\n",
    "So for example:\n",
    "\n",
    "```python\n",
    "# set x to 5\n",
    "x = 5\n",
    "\n",
    "# what does the code below return?\n",
    "x > 5\n",
    "\n",
    "# how about this?\n",
    "x == 5\n",
    "```\n",
    "\n",
    "\n",
    "To create a [boolean mask](https://pandas.pydata.org/pandas-docs/stable/getting_started/10min.html#boolean-indexing), you first create the `True` / `False` criteria (e.g. `values > 5`).\n",
    "Python will then assess each value in the object to determine whether the value meets the criteria (`True`) or not (`False`).\n",
    "Python creates an output object that is the same shape as the original object, but with a `True` or `False` value for each index location.\n",
    "\n",
    "You can use the syntax below when querying data from a DataFrame.\n",
    "Experiment with selecting various subsets of our data.\n",
    "\n",
    "* Equals: `==`\n",
    "* Not equals: `!=`\n",
    "* Greater than, less than: `>` or `<`\n",
    "* Greater than or equal to `>=`\n",
    "* Less than or equal to `<=`\n",
    "\n",
    "Let's try this out. "
   ]
  },
  {
   "cell_type": "code",
   "execution_count": null,
   "metadata": {
    "scrolled": true
   },
   "outputs": [],
   "source": [
    "# Select all rows with `weight` < 100"
   ]
  },
  {
   "cell_type": "code",
   "execution_count": null,
   "metadata": {},
   "outputs": [],
   "source": [
    "# Select all rows with `weight` > 100 and `sex` == \"F\""
   ]
  },
  {
   "cell_type": "markdown",
   "metadata": {},
   "source": [
    "Note the use of the `&` operator, which is a bit like `and` but in Pandas it does the `and` for each element of a `Series`.\n",
    "\n",
    "\n",
    "Next, let's identify all locations in the survey data that have null (missing or `NaN`) data values.\n",
    "We can use the pandas [`isnull()`](https://pandas.pydata.org/pandas-docs/stable/reference/api/pandas.DataFrame.isnull.html) function to do this.\n",
    "Each cell with a null value will be assigned a value of  `True` in the new boolean object."
   ]
  },
  {
   "cell_type": "code",
   "execution_count": null,
   "metadata": {
    "scrolled": true
   },
   "outputs": [],
   "source": [
    "# Use isnull() to find all null values in the dataframe"
   ]
  },
  {
   "cell_type": "markdown",
   "metadata": {},
   "source": [
    "To select the rows where there are null values, we can use the mask as an index to subset our data as follows:"
   ]
  },
  {
   "cell_type": "code",
   "execution_count": null,
   "metadata": {
    "scrolled": true
   },
   "outputs": [],
   "source": [
    "# To select just the rows with NaN values in any column, we can use the `.any()` method"
   ]
  },
  {
   "cell_type": "markdown",
   "metadata": {},
   "source": [
    "Note that there are many null or `NaN` values in the `wgt` column of our DataFrame.\n",
    "We explored different ways of dealing with these earlier in this notebook.\n",
    "\n",
    "We can run `isnull` on a particular column too.\n",
    "What does the code below do?\n",
    "\n",
    "```python\n",
    "# what does this do?\n",
    "empty_weights = surveys_df.loc[pd.isnull(surveys_df[\"wgt\"])]\n",
    "```\n",
    "\n",
    "Let's take a minute to look at the statement above. \n",
    "\n",
    "We are using the Boolean object as an index. \n",
    "We are asking python to select rows that have a `NaN` value for weight."
   ]
  },
  {
   "cell_type": "code",
   "execution_count": null,
   "metadata": {
    "scrolled": true
   },
   "outputs": [],
   "source": []
  },
  {
   "cell_type": "markdown",
   "metadata": {},
   "source": [
    "### Challenge\n",
    "\n",
    "1. Select a subset of rows in the `surveys_df` DataFrame that contain data from\n",
    "   the year 1999 and that contain weight values less than or equal to 8.\n",
    "   How many columns did you end up with?\n",
    "   What did your neighbor get?\n",
    "2. You can use the [`.isin()`](https://pandas.pydata.org/pandas-docs/stable/reference/api/pandas.DataFrame.isin.html) method to query a DataFrame based upon a list of values as follows:\n",
    "   ```python\n",
    "   surveys_df[surveys_df['species_id'].isin([listGoesHere])]\n",
    "   ```\n",
    "   Use the `.isin()` method to find all plots that contain particular species in\n",
    "   the surveys DataFrame.\n",
    "   How many records contain these values?\n",
    "3. Experiment with other queries. Create a query that finds all rows with a weight value > or equal to 0.\n",
    "4. The `~` symbol in Python can be used to return the OPPOSITE of the selection that you specify in python. \n",
    "\n",
    "It is equivalent to **is not in**.\n",
    "Write a query that selects all rows that are NOT equal to 'M' or 'F' in the surveys data."
   ]
  },
  {
   "cell_type": "code",
   "execution_count": null,
   "metadata": {},
   "outputs": [],
   "source": []
  },
  {
   "cell_type": "code",
   "execution_count": null,
   "metadata": {},
   "outputs": [],
   "source": []
  },
  {
   "cell_type": "code",
   "execution_count": null,
   "metadata": {},
   "outputs": [],
   "source": []
  },
  {
   "cell_type": "code",
   "execution_count": null,
   "metadata": {
    "scrolled": true
   },
   "outputs": [],
   "source": []
  },
  {
   "cell_type": "code",
   "execution_count": null,
   "metadata": {},
   "outputs": [],
   "source": []
  },
  {
   "cell_type": "markdown",
   "metadata": {},
   "source": [
    "# 4. Data Types and Formats\n",
    "\n",
    "The format of individual columns and rows will impact analysis performed on a dataset read into python.\n",
    "For example, you can’t perform mathematical calculations on a string (text formatted data).\n",
    "This might seem obvious, however sometimes numeric values are read into Python as strings.\n",
    "\n",
    "\n",
    "## Types of Data\n",
    "\n",
    "There are two main types of data that we’re explore in this lesson: numeric and text data types.\n",
    "\n",
    "\n",
    "### Numeric Data Types\n",
    "\n",
    "Numeric data types include integers and floats.\n",
    "A floating point (known as a float) number has decimal points even if that decimal point value is 0.\n",
    "For example: `1.13`, `2.0`, `1234.345`.\n",
    "\n",
    "An integer will never have a decimal point.\n",
    "Thus if we wanted to store 1.13 as an integer it would be stored as 1.\n",
    "You will often see the data type `int64` when using Pandas which stands for \"64 bit integer\".\n",
    "The 64 simply refers to the memory allocated to store data in each cell which effectively relates to how many digits it can store.\n",
    "\n",
    "If we have a column that contains both integers and floating point numbers, Pandas will assign the entire column to the float data type so the decimal points are not lost.\n",
    "\n",
    "\n",
    "### Text Data Type (Strings)\n",
    "\n",
    "Strings can contain numbers and/or characters.\n",
    "For example, a string might be a word, a sentence, or several sentences.\n",
    "A string can also contain or consist of numbers. For instance, ‘1234’ could be stored as a string, as could ‘10.23’. \n",
    "However strings that contain numbers can not be used for mathematical operations!\n",
    "\n",
    "\n",
    "Pandas and base Python use slightly different names for data types. More on this is in the table below:\n",
    "\n",
    "\n",
    "| Pandas Type | Native Python Type | Description |\n",
    "|-------------|--------------------|-------------|\n",
    "| object | string | The most general dtype. Will be assigned to your column if column has mixed types (numbers and strings). |\n",
    "| int64  | int | Numeric characters. 64 refers to the memory allocated to hold this character. |\n",
    "| float64 | float | Numeric characters with decimals. If a column contains numbers and NaNs(see below), pandas will default to float64, in case your missing value has a decimal. |\n",
    "| datetime64, timedelta[ns] | N/A (but see the [datetime] module in Python's standard library) | Values meant to hold time data. Look into these for time series experiments. |\n",
    "\n",
    "[datetime]: http://doc.python.org/3/library/datetime.html\n",
    "\n",
    "\n",
    "\n",
    "## Checking the format of our data\n",
    "\n",
    "Now that we’re armed with a basic understanding of numeric and text data types, let’s explore the format of our survey data.\n",
    "We’ll be working with the same `surveys.csv` dataset that we’ve used in previous lessons."
   ]
  },
  {
   "cell_type": "code",
   "execution_count": null,
   "metadata": {},
   "outputs": [],
   "source": [
    "# Reload the `data/surveys.csv` dataframe"
   ]
  },
  {
   "cell_type": "markdown",
   "metadata": {},
   "source": [
    "Remember that we can check the type of an object like this:"
   ]
  },
  {
   "cell_type": "code",
   "execution_count": null,
   "metadata": {},
   "outputs": [],
   "source": []
  },
  {
   "cell_type": "markdown",
   "metadata": {},
   "source": [
    "Next, let’s look at the structure of our surveys data.\n",
    "In Pandas, we can check the type of one column in a DataFrame using the syntax `dataFrameName[column_name].dtype`"
   ]
  },
  {
   "cell_type": "code",
   "execution_count": null,
   "metadata": {},
   "outputs": [],
   "source": [
    "# What is the dtype of the `sex` column?"
   ]
  },
  {
   "cell_type": "code",
   "execution_count": null,
   "metadata": {},
   "outputs": [],
   "source": [
    "# What is the dtype of the `record_id` column?"
   ]
  },
  {
   "cell_type": "markdown",
   "metadata": {},
   "source": [
    "We can use the `.dtypes` attribute to view the data type for each column in a DataFrame (all at once)."
   ]
  },
  {
   "cell_type": "code",
   "execution_count": null,
   "metadata": {},
   "outputs": [],
   "source": []
  },
  {
   "cell_type": "markdown",
   "metadata": {},
   "source": [
    "\n",
    "## Working With Integers and Floats\n",
    "\n",
    "So we’ve learned that computers store numbers in one of two ways: as integers or as floating-point numbers (or floats).\n",
    "\n",
    "Let’s next consider how the data type can impact mathematical operations on our data."
   ]
  },
  {
   "cell_type": "code",
   "execution_count": null,
   "metadata": {},
   "outputs": [],
   "source": [
    "# Addition and subtraction\n"
   ]
  },
  {
   "cell_type": "markdown",
   "metadata": {},
   "source": [
    "If we divide one integer by another, we get a float.\n",
    "The result on Python 3 is different than in Python 2, where the integer and float division operators are reversed."
   ]
  },
  {
   "cell_type": "code",
   "execution_count": null,
   "metadata": {},
   "outputs": [],
   "source": [
    "# Float division"
   ]
  },
  {
   "cell_type": "code",
   "execution_count": null,
   "metadata": {},
   "outputs": [],
   "source": [
    "# Integer division"
   ]
  },
  {
   "cell_type": "markdown",
   "metadata": {},
   "source": [
    "We can also convert a floating point number to an integer or an integer to floating point number.\n",
    "Notice that Python by default rounds down when it converts from floating point to integer."
   ]
  },
  {
   "cell_type": "code",
   "execution_count": null,
   "metadata": {},
   "outputs": [],
   "source": [
    "# Convert a float to an integer"
   ]
  },
  {
   "cell_type": "code",
   "execution_count": null,
   "metadata": {},
   "outputs": [],
   "source": [
    "# Convert an integer to a float"
   ]
  },
  {
   "cell_type": "markdown",
   "metadata": {},
   "source": [
    "Normally when converting a `float` to an `int`, we want to be specific about how we want to round things.\n",
    "We can use the functions [`ceil`](https://docs.python.org/3/library/math.html#math.ceil) or [`floor`](https://docs.python.org/3/library/math.html#math.floor) from the builtin [`math`](https://docs.python.org/3/library/math.html) package to do this."
   ]
  },
  {
   "cell_type": "markdown",
   "metadata": {},
   "source": [
    "## Working With Our Survey Data\n",
    "\n",
    "We can modify the format of values within our data frames if we want.\n",
    "\n",
    "For instance, we could convert the `record_id` field to floating point values."
   ]
  },
  {
   "cell_type": "code",
   "execution_count": null,
   "metadata": {},
   "outputs": [],
   "source": [
    "# Convert the record_id field from an integer to a float"
   ]
  },
  {
   "cell_type": "markdown",
   "metadata": {},
   "source": [
    "## Challenge (3 mins)\n",
    "\n",
    "Try converting the column `plot_id` to floats using:\n",
    "\n",
    "```python\n",
    "surveys_df[\"plot_id\"].astype(\"float\")\n",
    "```\n",
    "\n",
    "\n",
    "Next try converting weight to an integer.\n",
    "What goes wrong here?\n",
    "What is Pandas telling you?\n",
    "We will talk about some solutions to this later."
   ]
  },
  {
   "cell_type": "code",
   "execution_count": null,
   "metadata": {},
   "outputs": [],
   "source": []
  },
  {
   "cell_type": "code",
   "execution_count": null,
   "metadata": {},
   "outputs": [],
   "source": []
  },
  {
   "cell_type": "markdown",
   "metadata": {},
   "source": [
    "## Missing Data Values - `NaN`\n",
    "\n",
    "What happened in the last challenge activity?\n",
    "\n",
    "Notice that this throws a value error:\n",
    "\n",
    "```\n",
    "ValueError: Cannot convert NA to integer\n",
    "```\n",
    "\n",
    "If we look at the `weight` column in the surveys data we notice that there are `NaN` (Not a Number) values.\n",
    "`NaN` values are undefined values that cannot be represented mathematically.\n",
    "Pandas, for example, will read an empty cell in a CSV or Excel sheet as a `NaN`.\n",
    "\n",
    "`NaN`s have some desirable properties: if we were to average the weight column without replacing our `NaN`s, Pandas would know to skip over those cells.\n"
   ]
  },
  {
   "cell_type": "code",
   "execution_count": null,
   "metadata": {},
   "outputs": [],
   "source": []
  },
  {
   "cell_type": "markdown",
   "metadata": {},
   "source": [
    "Dealing with missing data values is always a challenge. It's sometimes hard to know why values are missing - was it because of a data entry error? Or data that someone was unable to collect? Should the value be 0?\n",
    "\n",
    "We need to know how missing values are represented in the dataset in order to make good decisions. If we're lucky, we have some metadata that will tell us more about how null values were handled.\n",
    "\n",
    "For instance, in some disciplines, like Remote Sensing, missing data values are often defined as -9999. Having a bunch of -9999 values in your data could really alter numeric calculations.\n",
    "\n",
    "Often in spreadsheets, cells are left empty where no data are available. Pandas will, by default, replace those missing values with NaN. However it is good practice to get in the habit of intentionally marking cells that have no data, with a no data value! That way there are no questions in the future when you (or someone else) explores your data.\n",
    "\n",
    "\n",
    "## Where Are the `NaN`s?\n",
    "\n",
    "Let's explore the `NaN` values in our data a bit further.\n",
    "First, let's figure out how many rows contain `NaN` values for weight.\n",
    "\n",
    "We can do this by identifying how many rows have a NULL value using the `.isnull()` function or by counting the number of rows that have a meaningful value (e.g. `weight` > 0):"
   ]
  },
  {
   "cell_type": "code",
   "execution_count": null,
   "metadata": {},
   "outputs": [],
   "source": [
    "# Remind ourselves how many values are in the df."
   ]
  },
  {
   "cell_type": "code",
   "execution_count": null,
   "metadata": {},
   "outputs": [],
   "source": [
    "# Use `.isnull` function to find `NaN` values."
   ]
  },
  {
   "cell_type": "code",
   "execution_count": null,
   "metadata": {},
   "outputs": [],
   "source": [
    "# Find the number of records with weight > 0 "
   ]
  },
  {
   "cell_type": "markdown",
   "metadata": {},
   "source": [
    "We can replace all `NaN` values with zeroes using the `.fillna()` method."
   ]
  },
  {
   "cell_type": "code",
   "execution_count": null,
   "metadata": {
    "scrolled": true
   },
   "outputs": [],
   "source": [
    "# Fill na values in weight with 0 "
   ]
  },
  {
   "cell_type": "markdown",
   "metadata": {},
   "source": [
    "To make a change to a DataFrame permanent, we assign the updated `Series` back to the `DataFrame` column with `=` (after making a copy of the data so we don't lose our work."
   ]
  },
  {
   "cell_type": "code",
   "execution_count": null,
   "metadata": {
    "scrolled": true
   },
   "outputs": [],
   "source": [
    "# Copy the dataframe using the `.copy()` method\n",
    "\n",
    "# replace NaN with 0 using the `.fillna()` method\n",
    "\n",
    "# Show the updated dataframe"
   ]
  },
  {
   "cell_type": "markdown",
   "metadata": {},
   "source": [
    "However, `NaN` and `0` will yield different analysis results.\n",
    "The mean value when `NaN` values are replaced with `0` is different from when `NaN` values are simply thrown out or ignored."
   ]
  },
  {
   "cell_type": "code",
   "execution_count": null,
   "metadata": {},
   "outputs": [],
   "source": [
    "# check mean of weights in the new na filled dataframe"
   ]
  },
  {
   "cell_type": "code",
   "execution_count": null,
   "metadata": {},
   "outputs": [],
   "source": [
    "# how does the new mean differ from before?"
   ]
  },
  {
   "cell_type": "markdown",
   "metadata": {},
   "source": [
    "We can fill `NaN` values with any value that we chose.\n",
    "The code below fills all `NaN` values with a mean for all weight values.\n",
    "\n",
    "```python\n",
    "df1['weight'] = surveys_df['weight'].fillna(surveys_df['weight'].mean())\n",
    "```\n",
    "\n",
    "We could also chose to create a subset of our data, only keeping rows that do not contain `NaN` values, using the `.dropna()` method."
   ]
  },
  {
   "cell_type": "markdown",
   "metadata": {},
   "source": [
    "The point is to make conscious decisions about how to manage missing data using your domain expertise.\n",
    "\n",
    "### Challenge (5 mins)\n",
    "\n",
    "Count the number of missing values per column.\n",
    "Hint: the method `.count()` gives you the number of non-NA observations per column. Try looking into the `.isnull()` method."
   ]
  },
  {
   "cell_type": "code",
   "execution_count": null,
   "metadata": {},
   "outputs": [],
   "source": []
  },
  {
   "cell_type": "code",
   "execution_count": null,
   "metadata": {},
   "outputs": [],
   "source": []
  },
  {
   "cell_type": "code",
   "execution_count": null,
   "metadata": {},
   "outputs": [],
   "source": []
  },
  {
   "cell_type": "markdown",
   "metadata": {},
   "source": [
    "### A Brief aside about `inplace`\n",
    "\n",
    "The pattern of modifying a column and reassigning it to the same column in a DataFrame is very common.\n",
    "In Pandas, many methods have an optional `inplace` argument.\n",
    "\n",
    "Setting it to `True` will modify the column \"in place\".\n",
    "\n",
    "E.G. The following is equivalent to what we did with `df1` previously."
   ]
  },
  {
   "cell_type": "code",
   "execution_count": null,
   "metadata": {},
   "outputs": [],
   "source": [
    "df2 = surveys_df.copy()\n",
    "\n",
    "df2[\"weight\"].fillna(0, inplace=True)\n",
    "df2[\"weight\"].mean()"
   ]
  },
  {
   "cell_type": "markdown",
   "metadata": {},
   "source": [
    "## Writing out data to CSV\n",
    "\n",
    "We’ve learned about using manipulating data to get desired outputs.\n",
    "But we’ve also discussed keeping data that has been manipulated separate from our raw data.\n",
    "Something we might be interested in doing is working with only the columns that have full data.\n",
    "First, let’s reload the data so we're not mixing up all of our previous manipulations."
   ]
  },
  {
   "cell_type": "code",
   "execution_count": null,
   "metadata": {},
   "outputs": [],
   "source": []
  },
  {
   "cell_type": "markdown",
   "metadata": {},
   "source": [
    "Next, let’s drop all the rows that contain missing values.\n",
    "We will use the method `.dropna()`.\n",
    "By default, `.dropna()` removes rows that contain missing data for even just one column."
   ]
  },
  {
   "cell_type": "code",
   "execution_count": null,
   "metadata": {},
   "outputs": [],
   "source": []
  },
  {
   "cell_type": "markdown",
   "metadata": {},
   "source": [
    "If you now type `df_na`, you should observe that the resulting DataFrame has 30676 rows and 9 columns, much smaller than the 35549 row original.\n",
    "\n",
    "We can now use the `.to_csv()` method to do export a `DataFrame` in CSV format.\n",
    "Note that the code below will by default save the data into the current working directory.\n",
    "We can save it to a different folder by adding the foldername and a slash before the filename: `df.to_csv('foldername/out.csv')`."
   ]
  },
  {
   "cell_type": "code",
   "execution_count": null,
   "metadata": {},
   "outputs": [],
   "source": [
    "# Save the NA-dropped dataframe\n",
    "# What does the `index` parameter do?\n"
   ]
  },
  {
   "cell_type": "markdown",
   "metadata": {},
   "source": [
    "Have a look at the data!"
   ]
  },
  {
   "cell_type": "markdown",
   "metadata": {},
   "source": [
    "# 5. Combining DataFrames using Pandas\n",
    "\n",
    "In many \"real world\" situations, the data that we want to use come in multiple files.\n",
    "We often need to combine these files into a single `DataFrame` to analyze the data.\n",
    "\n",
    "The Pandas package provides various functions for combining DataFrames including `merge` and `concat`.\n",
    "\n",
    "\n",
    "## Concatenating\n",
    "\n",
    "We can use the `concat` function in Pandas to append either columns or rows from one DataFrame to another.\n",
    "Let's grab two subsets of our data to see how this works."
   ]
  },
  {
   "cell_type": "code",
   "execution_count": null,
   "metadata": {},
   "outputs": [],
   "source": [
    "# Save a slice of the first 10 lines of surveys table to a new variable.\n"
   ]
  },
  {
   "cell_type": "code",
   "execution_count": null,
   "metadata": {},
   "outputs": [],
   "source": [
    "# Save a slice of the last 10 rows to a new variable.\n"
   ]
  },
  {
   "cell_type": "markdown",
   "metadata": {},
   "source": [
    "Notice that the subset containing the last few rows of the dataframe has an odd index.\n",
    "\n",
    "We can reset this index to be regular sequential indices using the `.reset_index()` method."
   ]
  },
  {
   "cell_type": "code",
   "execution_count": null,
   "metadata": {},
   "outputs": [],
   "source": [
    "# Use the .reset_index() method to 'fix' the index.\n",
    "# What does the `drop` argument do?"
   ]
  },
  {
   "cell_type": "markdown",
   "metadata": {},
   "source": [
    "When we concatenate DataFrames, we need to specify the axis.\n",
    "\n",
    "`axis=0` tells Pandas to stack the second DataFrame under the first one.\n",
    "It will automatically detect whether the column names are the same and will stack accordingly.\n",
    "\n",
    "`axis=1` will stack the columns in the second DataFrame to the RIGHT of the first DataFrame.\n",
    "To stack the data vertically, we need to make sure we have the same columns and associated column format in both datasets.\n",
    "\n",
    "When we stack horizonally (`axis=1`), we want to make sure what we are doing makes sense (i.e. the data are related in some way)."
   ]
  },
  {
   "cell_type": "code",
   "execution_count": null,
   "metadata": {
    "scrolled": true
   },
   "outputs": [],
   "source": [
    "# Stack the DataFrames on top of each other using the `concat` function."
   ]
  },
  {
   "cell_type": "code",
   "execution_count": null,
   "metadata": {
    "scrolled": true
   },
   "outputs": [],
   "source": [
    "# Place the DataFrames side by side\n",
    "# Do we need to reset_index?"
   ]
  },
  {
   "cell_type": "markdown",
   "metadata": {},
   "source": [
    "### Challenge (5-10 mins)\n",
    "\n",
    "Have a look at the vertically stacked dataframe, do you notice anything unusual?\n",
    "\n",
    "The row indexes for the two data frames `surveys_first_10` and `surveys_last_10` are not sequential.\n",
    "\n",
    "\n",
    "1. reindex the new concatenated dataframe using the `.reset_index()` method.\n",
    "2. What does `ignore_index` parameter do?\n",
    "   Try entering `pd.concat([surveys_first_10, surveys_last_10], axis=0, ignore_index=True)`\n",
    "3. BONUS. What does `pd.concat([surveys_first_10, surveys_last_10.reset_index(drop=True)], axis=1, ignore_index=True)` do?\n",
    "   How does this relate to the axis joined on?"
   ]
  },
  {
   "cell_type": "code",
   "execution_count": null,
   "metadata": {},
   "outputs": [],
   "source": []
  },
  {
   "cell_type": "code",
   "execution_count": null,
   "metadata": {},
   "outputs": [],
   "source": []
  },
  {
   "cell_type": "code",
   "execution_count": null,
   "metadata": {},
   "outputs": [],
   "source": []
  },
  {
   "cell_type": "markdown",
   "metadata": {},
   "source": [
    "## Joining two `DataFrames`\n",
    "\n",
    "Another way to combine `DataFrames` is to use columns in each dataset that contain common values (a common unique id).\n",
    "\n",
    "Combining `DataFrames` using a common field is called \"joining\".\n",
    "The columns containing the common values are called \"join key(s)\".\n",
    "Joining `DataFrames` in this way is often useful when one `DataFrame` contains additional data that we want to include in the other.\n",
    "\n",
    "NOTE: This process of joining tables is similar to what we do with tables in an SQL database.\n",
    "\n",
    "\n",
    "For example, the file `data/species.csv` file contains additional data about the species we saw in `data/surveys.csv`.\n",
    "This table contains the genus, species and taxa code for 55 species.\n",
    "The species code is unique for each line. These species are identified in our survey data as well using the unique species code.\n",
    "\n",
    "To work through the examples below, we first need to load the species file into a Pandas `DataFrame`."
   ]
  },
  {
   "cell_type": "code",
   "execution_count": null,
   "metadata": {},
   "outputs": [],
   "source": [
    "# Import our surveys and species csvs into dataframes."
   ]
  },
  {
   "cell_type": "markdown",
   "metadata": {},
   "source": [
    "Now we can see the relationship between the dataframes."
   ]
  },
  {
   "cell_type": "code",
   "execution_count": null,
   "metadata": {},
   "outputs": [],
   "source": [
    "# Show the head of surveys_df"
   ]
  },
  {
   "cell_type": "code",
   "execution_count": null,
   "metadata": {},
   "outputs": [],
   "source": [
    "# Show the head of species_df"
   ]
  },
  {
   "cell_type": "markdown",
   "metadata": {},
   "source": [
    "We see that the column `species_id` in `species_df` corresponds to the `species_id` column in `surveys_df`.\n",
    "\n",
    "So `species_id` will be our **join key** in both dataframes.\n",
    "\n",
    "We can now use the pandas `merge` function to join the two DataFrames."
   ]
  },
  {
   "cell_type": "code",
   "execution_count": null,
   "metadata": {
    "scrolled": true
   },
   "outputs": [],
   "source": [
    "# Use pd.merge to combine the two dataframes."
   ]
  },
  {
   "cell_type": "code",
   "execution_count": null,
   "metadata": {},
   "outputs": [],
   "source": [
    "# What's the shape of the output table?"
   ]
  },
  {
   "cell_type": "markdown",
   "metadata": {},
   "source": [
    "We can see that the joined DataFrame now has genera and species information for the survey records.\n",
    "\n",
    "\n",
    "## Types of joins\n",
    "\n",
    "The most common type of join is called an inner join, which we just did by default with `pd.merge`.\n",
    "An inner join combines two DataFrames based on a join key and returns a new DataFrame that contains only those rows that have matching values in both of the original DataFrames.\n",
    "\n",
    "Inner joins yield a DataFrame that contains only rows where the value being joins exists in BOTH tables.\n",
    "\n",
    "\n",
    "<img src=\"https://datacarpentry.org/python-ecology-lesson/fig/inner-join.png\" alt=\"inner-join\" width=\"450px\" >\n",
    "\n",
    "\n",
    "We can also perform other types of joins like a **left join** by providing the `how` parameter."
   ]
  },
  {
   "cell_type": "code",
   "execution_count": null,
   "metadata": {
    "scrolled": true
   },
   "outputs": [],
   "source": [
    "# Perform a left-join using how=\"left\".\n",
    "# What happens if you subset one of the dataframes?"
   ]
  },
  {
   "cell_type": "markdown",
   "metadata": {},
   "source": [
    "A \"left join\" or \"left outer join\" joins whatever keys it can and fills any missing keys in the \"right\" dataframe with `NaN` values.\n",
    "Unlike the \"inner\" join, none of the rows in the left dataframe are discarded.\n",
    "\n",
    "<img src=\"https://datacarpentry.org/python-ecology-lesson/fig/left-join.png\" alt=\"inner-join\" width=\"450px\" >\n",
    "\n",
    "Other types of join include \"right\" joins and \"full outer joins\".\n",
    "\n",
    "\n",
    "### Challenge (10 - 15 mins)\n",
    "\n",
    "In the data folder, there is a `plots.csv` file that contains information about the \"plot type\" associated with each plot.\n",
    "\n",
    "1. Read that data into a pandas dataframe and identify the **join keys** (hint: in `surveys.csv` the column will be `plot_id`).\n",
    "2. Perform an **inner join** using the `pd.merge` function.\n",
    "2. Find the number of different `species` for each `plot_type` using the `.groupby()` and `.nunique()` methods."
   ]
  },
  {
   "cell_type": "code",
   "execution_count": null,
   "metadata": {},
   "outputs": [],
   "source": []
  },
  {
   "cell_type": "code",
   "execution_count": null,
   "metadata": {},
   "outputs": [],
   "source": []
  },
  {
   "cell_type": "code",
   "execution_count": null,
   "metadata": {},
   "outputs": [],
   "source": []
  },
  {
   "cell_type": "markdown",
   "metadata": {},
   "source": [
    "# 6. Automating data processing\n",
    "\n",
    "So far, we've used Python and the Pandas library to explore and manipulate individual datasets by hand, much like we would do in a spreadsheet.\n",
    "\n",
    "The beauty of using a programming language like Python comes from the ability to automate data processing through the use of loops and functions.\n",
    "\n",
    "\n",
    "## For loops\n",
    "\n",
    "Loops allow us to repeat a workflow (or series of actions) a given number of times or while some condition is true.\n",
    "We would use a loop to automatically process data that's stored in multiple files E.G. daily values with one file per year.\n",
    "\n",
    "Loops lighten our work load by performing repeated tasks without our direct involvement and make it less likely that we'll introduce errors by making mistakes while processing each file by hand.\n",
    "\n",
    "Let's write a simple for loop that simulates what a kid might see during a visit to the zoo:"
   ]
  },
  {
   "cell_type": "code",
   "execution_count": null,
   "metadata": {},
   "outputs": [],
   "source": []
  },
  {
   "cell_type": "code",
   "execution_count": null,
   "metadata": {},
   "outputs": [],
   "source": [
    "# Write a for loop that prints each animal out"
   ]
  },
  {
   "cell_type": "markdown",
   "metadata": {},
   "source": [
    "The line defining the loop must start with `for` and end with a colon, and the body of the loop must be indented.\n",
    "\n",
    "In this example, `creature` is the loop variable that takes the value of the next entry in `animals` every time the loop goes around.\n",
    "\n",
    "We can call the loop variable anything we like.\n",
    "After the loop finishes, the loop variable will still exist and will have the value of the last entry in the collection:"
   ]
  },
  {
   "cell_type": "code",
   "execution_count": null,
   "metadata": {},
   "outputs": [],
   "source": []
  },
  {
   "cell_type": "markdown",
   "metadata": {},
   "source": [
    "We are not asking python to print the value of the loop variable anymore, but the for loop still runs and the value of `creature` changes on each pass through the loop.\n",
    "The statement `pass` in the body of the loop just means \"do nothing\"."
   ]
  },
  {
   "cell_type": "markdown",
   "metadata": {},
   "source": [
    "---\n",
    "\n",
    "The file we've been using so far (`surveys.csv`) contains 25 years of data and is a bit large.\n",
    "We might like to separate the data for each year into a separate\n",
    "file.\n",
    "\n",
    "Let's start by making a new directory called `yearly_files` inside the folder `data` to store all of these files using the function [`mkdir`](https://docs.python.org/3/library/os.html#os.mkdir) in the [`os`](https://docs.python.org/3/library/os.html) module."
   ]
  },
  {
   "cell_type": "code",
   "execution_count": null,
   "metadata": {},
   "outputs": [],
   "source": [
    "# Create a new directory with the os.mkdir function."
   ]
  },
  {
   "cell_type": "code",
   "execution_count": null,
   "metadata": {},
   "outputs": [],
   "source": [
    "# Check that we created the directory with os.listdir"
   ]
  },
  {
   "cell_type": "markdown",
   "metadata": {},
   "source": [
    "The command `os.listdir` is equivalent to `ls` in the shell.\n",
    "\n",
    "Previously, we saw how to use the library pandas to load the surveys dataframe, subset it, and save it to a new file.\n",
    "\n",
    "```python\n",
    "import pandas as pd\n",
    "\n",
    "# Load the data into a DataFrame\n",
    "surveys_df = pd.read_csv('data/surveys.csv')\n",
    "\n",
    "# Select only data for 2002\n",
    "surveys2002 = surveys_df.loc[surveys_df[\"year\"] == 2002]\n",
    "\n",
    "# Write the new DataFrame to a csv file\n",
    "surveys2002.to_csv('data/yearly_files/surveys2002.csv')\n",
    "```\n",
    "\n",
    "Rather than copy-pasting the last two commands for every subset, we can use a loop.\n",
    "\n",
    "We have seen that we can loop over a list of items, so we need a list of years to loop over.\n",
    "We can get the *unique* years in our DataFrame with:"
   ]
  },
  {
   "cell_type": "code",
   "execution_count": null,
   "metadata": {},
   "outputs": [],
   "source": [
    "# Find the unique years in surveys_df"
   ]
  },
  {
   "cell_type": "markdown",
   "metadata": {},
   "source": [
    "Putting this into our for loop we get"
   ]
  },
  {
   "cell_type": "code",
   "execution_count": null,
   "metadata": {},
   "outputs": [],
   "source": [
    "# Loop over the unique years and print them."
   ]
  },
  {
   "cell_type": "markdown",
   "metadata": {},
   "source": [
    "We can combine strings using the `+` operator."
   ]
  },
  {
   "cell_type": "code",
   "execution_count": null,
   "metadata": {},
   "outputs": [],
   "source": [
    "# Join the year with strings to produce a new for the full path."
   ]
  },
  {
   "cell_type": "markdown",
   "metadata": {},
   "source": [
    "We can now add the rest of the steps we need to create separate text files.\n",
    "Once finished look inside the `yearly_files` directory and check a couple of the files you\n",
    "just created to confirm that everything worked as expected."
   ]
  },
  {
   "cell_type": "code",
   "execution_count": null,
   "metadata": {},
   "outputs": [],
   "source": []
  },
  {
   "cell_type": "code",
   "execution_count": null,
   "metadata": {},
   "outputs": [],
   "source": [
    "# list the data/yearly_files directory\n"
   ]
  },
  {
   "cell_type": "markdown",
   "metadata": {},
   "source": [
    "### Challenge (10 - 15 mins)\n",
    "\n",
    "1. Instead of splitting out the data by years, a colleague wants to do analyses each species separately. How would you write a unique csv file for each species?\n",
    "\n",
    "2. Let's say you only want to look at data from a given multiple of years. How would you modify your loop in order to generate a data file for only every 5th year, starting from 1977? Hint: you will need to use `range` to specify the list of numbers.\n",
    "\n",
    "``` python\n",
    "range(start, end, steps)\n",
    "```\n"
   ]
  },
  {
   "cell_type": "code",
   "execution_count": null,
   "metadata": {},
   "outputs": [],
   "source": []
  },
  {
   "cell_type": "code",
   "execution_count": null,
   "metadata": {},
   "outputs": [],
   "source": []
  },
  {
   "cell_type": "code",
   "execution_count": null,
   "metadata": {},
   "outputs": [],
   "source": []
  },
  {
   "cell_type": "markdown",
   "metadata": {},
   "source": [
    "## Building reusable and modular code with functions\n",
    "\n",
    "Suppose that separating large data files into individual yearly files is a task that we frequently have to perform.\n",
    "Again, rather than copy-pasting for loops and changing one or two things, we can package chunks of code into functions.\n",
    "\n",
    "Functions are reusable, self-contained pieces of code that are called with a single command.\n",
    "They can be designed to accept arguments as input and return values, but they don't need to do either.\n",
    "\n",
    "Variables declared inside functions only exist while the function is running and if a variable within the function (a local variable) has the same name as a variable somewhere else in the code, the local variable hides but doesn't overwrite the other.\n",
    "\n",
    "We will only use functions that are housed within the same code that uses them, but it's [possible to write functions that can be used by different programs](https://docs.python.org/3/tutorial/modules.html).\n",
    "\n",
    "\n",
    "Functions are declared following this general structure:\n",
    "\n",
    "```python\n",
    "def function_name(input_arg):\n",
    "    print(input_arg)\n",
    "    return \"Returned value\"\n",
    "```"
   ]
  },
  {
   "cell_type": "code",
   "execution_count": null,
   "metadata": {},
   "outputs": [],
   "source": []
  },
  {
   "cell_type": "code",
   "execution_count": null,
   "metadata": {},
   "outputs": [],
   "source": []
  },
  {
   "cell_type": "markdown",
   "metadata": {},
   "source": [
    "### Challenge (10 mins)\n",
    "\n",
    "1. Try calling the function by giving it the wrong number of arguments (not 2)\n",
    "   or not assigning the function call to a variable (no `product_of_inputs =`)\n",
    "1. Declare a variable inside the function and test to see where it exists (Hint:\n",
    "   can you print it from outside the function?)\n",
    "1. Explore what happens when a variable both inside and outside the function\n",
    "   have the same name. What happens to the global variable when you change the\n",
    "   value of the local variable?"
   ]
  },
  {
   "cell_type": "code",
   "execution_count": null,
   "metadata": {},
   "outputs": [],
   "source": []
  },
  {
   "cell_type": "code",
   "execution_count": null,
   "metadata": {},
   "outputs": [],
   "source": []
  },
  {
   "cell_type": "code",
   "execution_count": null,
   "metadata": {},
   "outputs": [],
   "source": []
  },
  {
   "cell_type": "code",
   "execution_count": null,
   "metadata": {},
   "outputs": [],
   "source": []
  },
  {
   "cell_type": "markdown",
   "metadata": {},
   "source": [
    "---\n",
    "\n",
    "We can now turn our code for saving yearly data files into a function.\n",
    "There are many different \"chunks\" of this code that we can turn into functions, and we can even create functions that call other functions inside them.\n",
    "Let's first write a function that separates data for just one year and saves that data to a file:"
   ]
  },
  {
   "cell_type": "code",
   "execution_count": null,
   "metadata": {},
   "outputs": [],
   "source": [
    "# Define a `one_year_csv_writer()` function"
   ]
  },
  {
   "cell_type": "code",
   "execution_count": null,
   "metadata": {},
   "outputs": [],
   "source": [
    "# Call out new function for the a single year"
   ]
  },
  {
   "cell_type": "code",
   "execution_count": null,
   "metadata": {},
   "outputs": [],
   "source": [
    "# Loop through unique years and call new function."
   ]
  },
  {
   "cell_type": "markdown",
   "metadata": {},
   "source": [
    "The text between the two sets of triple double quotes is called a docstring and contains the documentation for the function.\n",
    "It does nothing when the function is running and is therefore not necessary, but it is good practice to include docstrings as a reminder of what the code does.\n",
    "\n",
    "Docstrings in functions also become part of their 'official' documentation:"
   ]
  },
  {
   "cell_type": "code",
   "execution_count": null,
   "metadata": {},
   "outputs": [],
   "source": [
    "# Show the help for our newly created function"
   ]
  },
  {
   "cell_type": "markdown",
   "metadata": {},
   "source": [
    "We changed the root of the name of the csv file so we can distinguish it from the one we wrote before.\n",
    "Check the `yearly_files` directory for the file.\n",
    "Did it do what you expect?\n",
    "\n",
    "\n",
    "Let's write another function that replaces the entire For loop by simply looping through a sequence of years and repeatedly calling the function we just wrote, `one_year_csv_writer`:"
   ]
  },
  {
   "cell_type": "code",
   "execution_count": null,
   "metadata": {},
   "outputs": [],
   "source": [
    "# Create a `yearly_data_csv_writer()` function that does the loop and calls the previous function."
   ]
  },
  {
   "cell_type": "markdown",
   "metadata": {},
   "source": [
    "By writing the entire loop into a function, we've made a reusable tool for whenever we need to break a large data file into yearly files.\n",
    "Because we can specify the first and last year for which we want files, we can even use this function to create files for a subset of the years available.\n",
    "\n",
    "This is how we call this function:"
   ]
  },
  {
   "cell_type": "code",
   "execution_count": null,
   "metadata": {},
   "outputs": [],
   "source": []
  },
  {
   "cell_type": "markdown",
   "metadata": {},
   "source": [
    "### Challenge (15 mins)\n",
    "\n",
    "1. **Add two arguments** to the functions we wrote that take the *path* of the\n",
    "   directory where the files will be written and the *root* of the file name.\n",
    "   Create a new set of files with a different name in a different directory.\n",
    "2. Make the functions **return a list** of the files they have written. There are\n",
    "   many ways you can do this (and you should try them all!): either of the\n",
    "   functions can print to screen, either can use a return statement to give back\n",
    "   numbers or strings to their function call, or you can use some combination of\n",
    "   the two. You could also try using the `os` library to list the contents of\n",
    "   directories."
   ]
  },
  {
   "cell_type": "code",
   "execution_count": null,
   "metadata": {},
   "outputs": [],
   "source": []
  },
  {
   "cell_type": "code",
   "execution_count": null,
   "metadata": {},
   "outputs": [],
   "source": []
  },
  {
   "cell_type": "markdown",
   "metadata": {},
   "source": [
    "---\n",
    "\n",
    "But what if our dataset doesn't start in 1977 and end in 2002? We can modify the\n",
    "function so that it looks for the start and end years in the dataset if those\n",
    "dates are not provided:"
   ]
  },
  {
   "cell_type": "code",
   "execution_count": null,
   "metadata": {},
   "outputs": [],
   "source": [
    "# define function using None defaults"
   ]
  },
  {
   "cell_type": "code",
   "execution_count": null,
   "metadata": {},
   "outputs": [],
   "source": []
  },
  {
   "cell_type": "markdown",
   "metadata": {},
   "source": [
    "The body of the test function now has two conditional blocks (**if statement**) that\n",
    "check the values of `start_year` and `end_year`. If statements execute the body of\n",
    "the 'block' when some condition is met. \n",
    "\n",
    "\n",
    "## If statements\n",
    "\n",
    "`if` statements work like the boolean logic we saw earlier when we created masks to select our data.\n",
    "They commonly look something like this:\n",
    "\n",
    "```python\n",
    "favourite = \"apple\"\n",
    "\n",
    "if favourite == \"apple\":  # meets first condition?\n",
    "    print(\"Ace! I love apples!\")\n",
    "\n",
    "elif favourite == \"banana\":  # did not meet first condition. meets second condition?\n",
    "    print(\"I'm bonkers for bananas too!\")\n",
    "\n",
    "# did not meet first or second condition. meets third condition?\n",
    "elif favourite == \"durian\":\n",
    "    print(\"Ohh...\")\n",
    "\n",
    "else:  # met no conditions\n",
    "    print(\"I've never heard of that fruit.\")\n",
    "```"
   ]
  },
  {
   "cell_type": "code",
   "execution_count": null,
   "metadata": {},
   "outputs": [],
   "source": [
    "# Create an if statement that checks if a value `a` is positive, negative or zero.\n"
   ]
  },
  {
   "cell_type": "markdown",
   "metadata": {},
   "source": [
    "Change the value of `a` to see how this function works.\n",
    "The statement `elif` means \"else if\", and all of the conditional statements must end in a colon.\n",
    "\n",
    "The `if` statements in the function `yearly_data_arg_test` check whether there is an object associated with the variable names `start_year` and `end_year`.\n",
    "If those variables are `None`, the if statements return the boolean `True` and execute whatever is in their body.\n",
    "On the other hand, if the variable names are associated with some value (they got a number in the function call), the if statements return `False` and do not execute.\n",
    "The opposite conditional statements, which would return `True` if the variables were associated with objects (if they had received value in the function call), would be `if start_year` and `if end_year`."
   ]
  },
  {
   "cell_type": "markdown",
   "metadata": {},
   "source": [
    "### Challenge (10 mins)\n",
    "\n",
    "1. Rewrite the `one_year_csv_writer` and `yearly_data_csv_writer` functions to use `None` as default for the years.\n",
    "2. Modify the functions so that they don't create yearly files if there is no\n",
    "   data for a given year and display an alert to the user (Hint: use conditional\n",
    "   statements to do this)"
   ]
  },
  {
   "cell_type": "code",
   "execution_count": null,
   "metadata": {},
   "outputs": [],
   "source": []
  },
  {
   "cell_type": "code",
   "execution_count": null,
   "metadata": {},
   "outputs": [],
   "source": []
  },
  {
   "cell_type": "markdown",
   "metadata": {},
   "source": [
    "# 7. A Brief intro to Matplotlib and Seaborn\n",
    "\n",
    "[Matplotlib](https://matplotlib.org/) is an extremely flexible plotting package for Python, but it lacks an intuitive interface and the default plots are a bit unpleasant.\n",
    "\n",
    "There are many libraries that build on top of the matplotlib foundations to provide a more convenient way to visualise data.\n",
    "We already saw Pandas' `.plot()` method, which calls some matplotlib functions.\n",
    "Other popular libraries include [plotnine](https://plotnine.readthedocs.io/en/stable/) which works a little bit like [`ggplot2`](https://ggplot2.tidyverse.org/) in R.\n",
    "\n",
    "Here we'll look more at some examples from another package called [seaborn](https://seaborn.pydata.org/index.html) which has some great tutorials and an [example gallery](https://seaborn.pydata.org/examples/index.html) with code to pick and choose from.\n",
    "\n",
    "Lets first look at matplotlib, then we'll use seaborn to recreate some earlier plots."
   ]
  },
  {
   "cell_type": "code",
   "execution_count": null,
   "metadata": {},
   "outputs": [],
   "source": [
    "# Import matplotlib and seaborn\n",
    "import matplotlib.pyplot as plt\n",
    "import seaborn as sns\n",
    "\n",
    "%matplotlib inline"
   ]
  },
  {
   "cell_type": "markdown",
   "metadata": {},
   "source": [
    "Matplotlib plots consist of a `Figure` and one or more `Axes` objects.\n",
    "To create these objects we use the `subplots()` function from `matplotlib.pyplot`.\n",
    "\n",
    "The axes are the things that we actually plot on.\n",
    "So we can call methods like `.hist()` on the `Axes` to show data."
   ]
  },
  {
   "cell_type": "code",
   "execution_count": null,
   "metadata": {},
   "outputs": [],
   "source": [
    "# Plot a histogram of the weights in surveys_df"
   ]
  },
  {
   "cell_type": "markdown",
   "metadata": {},
   "source": [
    "We can also plot to these `Axes` objects from other packages."
   ]
  },
  {
   "cell_type": "code",
   "execution_count": null,
   "metadata": {},
   "outputs": [],
   "source": [
    "# Specify the `ax` to plot for pd `.hist()` method."
   ]
  },
  {
   "cell_type": "markdown",
   "metadata": {},
   "source": [
    "By default, most plotting functions and methods that use matplotlib create a new figure and axis for you if you don't provide one.\n",
    "\n",
    "Seaborn is another library that provides convenient plotting from dataframes."
   ]
  },
  {
   "cell_type": "code",
   "execution_count": null,
   "metadata": {},
   "outputs": [],
   "source": [
    "# Construct a scatterplot of year vs weight using seaborn"
   ]
  },
  {
   "cell_type": "markdown",
   "metadata": {},
   "source": [
    "We can tell the package to use a more \"ggplot\"-like stype using the `set` function."
   ]
  },
  {
   "cell_type": "code",
   "execution_count": null,
   "metadata": {},
   "outputs": [],
   "source": [
    "# Set the style to \"darkgrid\" using set. \n",
    "sns.set(style=\"darkgrid\")"
   ]
  },
  {
   "cell_type": "code",
   "execution_count": null,
   "metadata": {},
   "outputs": [],
   "source": [
    "# Plot the same scatterplot"
   ]
  },
  {
   "cell_type": "markdown",
   "metadata": {},
   "source": [
    "Next we can plot a bar chart of summaries."
   ]
  },
  {
   "cell_type": "code",
   "execution_count": null,
   "metadata": {},
   "outputs": [],
   "source": [
    "# Group surveys_df by sex and species and plot the mean weights."
   ]
  },
  {
   "cell_type": "markdown",
   "metadata": {},
   "source": [
    "The reason you'll want to know some of matplotlib is that it allows you to create more complex plots.\n",
    "E.g. Grid plots or adjusting small features of plots."
   ]
  },
  {
   "cell_type": "code",
   "execution_count": null,
   "metadata": {},
   "outputs": [],
   "source": [
    "fig, axes = plt.subplots(ncols=2)\n",
    "sns.barplot(\n",
    "    x=\"species_id\",\n",
    "    y=\"weight\",\n",
    "    hue=\"sex\",\n",
    "    data=mean_weights,\n",
    "    ax=axes[0]\n",
    ")\n",
    "\n",
    "sns.scatterplot(x=\"year\", y=\"weight\", data=surveys_df, ax=axes[1])\n",
    "\n",
    "axes[0].set_xticklabels(\n",
    "    axes[0].get_xticklabels(),\n",
    "    rotation=90,\n",
    "    fontsize=7,\n",
    "    horizontalalignment=\"center\"\n",
    ")\n",
    "\n",
    "fig.tight_layout()"
   ]
  },
  {
   "cell_type": "markdown",
   "metadata": {},
   "source": [
    "## Saving figures\n",
    "\n",
    "We can save a `Figure` using the `.savefig()` method."
   ]
  },
  {
   "cell_type": "code",
   "execution_count": null,
   "metadata": {},
   "outputs": [],
   "source": [
    "# create and save a figure.\n"
   ]
  },
  {
   "cell_type": "code",
   "execution_count": null,
   "metadata": {},
   "outputs": [],
   "source": []
  }
 ],
 "metadata": {
  "celltoolbar": "Raw Cell Format",
  "kernelspec": {
   "display_name": "Python 3",
   "language": "python",
   "name": "python3"
  },
  "language_info": {
   "codemirror_mode": {
    "name": "ipython",
    "version": 3
   },
   "file_extension": ".py",
   "mimetype": "text/x-python",
   "name": "python",
   "nbconvert_exporter": "python",
   "pygments_lexer": "ipython3",
   "version": "3.7.3"
  }
 },
 "nbformat": 4,
 "nbformat_minor": 1
}
